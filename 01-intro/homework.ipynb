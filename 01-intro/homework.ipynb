{
 "cells": [
  {
   "cell_type": "code",
   "execution_count": 3,
   "id": "80f6a3da-8597-4c39-bcec-1a8abdba1811",
   "metadata": {},
   "outputs": [],
   "source": [
    "import openai\n",
    "from openai import OpenAI"
   ]
  },
  {
   "cell_type": "code",
   "execution_count": 4,
   "id": "8fb45fcf-1601-4b5e-9187-f0ecfd3fb537",
   "metadata": {},
   "outputs": [],
   "source": [
    "client = OpenAI()"
   ]
  },
  {
   "cell_type": "code",
   "execution_count": 8,
   "id": "ce0c2a53-7119-4d8f-bc84-ffda114cc160",
   "metadata": {},
   "outputs": [
    {
     "data": {
      "text/plain": [
       "\"It's difficult to give a definitive answer without knowing specific details about the course you're referring to, such as its start date, enrollment deadlines, or policies. Generally, the ability to join a course depends on several factors:\\n\\n1. **Enrollment Deadlines**: Many courses, especially at traditional educational institutions, have specific deadlines for registration. If the deadline has passed, you may need special permission to join.\\n\\n2. **Course Progress**: If the course has already started, it depends on how much material has been covered and whether catching up is feasible for you. Some courses allow late enrollment but may expect you to cover missed content on your own.\\n\\n3. **Course Type**: Online courses often have more flexibility. Some operate on a rolling admissions basis, meaning you can join at any time. Others have set schedules similar to traditional courses.\\n\\n4. **Instructor/Institution Policies**: Reaching out to the course instructor or the institution offering the course can provide clarity. They may allow exceptions based on individual circumstances.\\n\\n5. **Availability of Resources**: Ensure that any materials, lectures, or prerequisites missed can be accessed and reviewed independently so that you can catch up effectively.\\n\\nIf you're interested in joining the course, the best approach is to contact the course administrator or instructor as soon as possible to discuss your options.\""
      ]
     },
     "execution_count": 8,
     "metadata": {},
     "output_type": "execute_result"
    }
   ],
   "source": [
    "response = client.chat.completions.create(\n",
    "    model='gpt-4o', \n",
    "    messages=[{'role':'user', 'content':'is it too late to join the course?'}]\n",
    ")\n",
    "\n",
    "response.choices[0].message.content"
   ]
  }
 ],
 "metadata": {
  "kernelspec": {
   "display_name": "Python 3 (ipykernel)",
   "language": "python",
   "name": "python3"
  },
  "language_info": {
   "codemirror_mode": {
    "name": "ipython",
    "version": 3
   },
   "file_extension": ".py",
   "mimetype": "text/x-python",
   "name": "python",
   "nbconvert_exporter": "python",
   "pygments_lexer": "ipython3",
   "version": "3.10.13"
  }
 },
 "nbformat": 4,
 "nbformat_minor": 5
}
